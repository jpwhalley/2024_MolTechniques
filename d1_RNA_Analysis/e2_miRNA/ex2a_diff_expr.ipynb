{
 "cells": [
  {
   "cell_type": "markdown",
   "metadata": {},
   "source": [
    "# SGPS Molecular Techniques\n",
    "## Exercise 2: Differential gene expression analysis - working with miRNAs\n",
    "\n",
    "#### Gene Expression data from Gene Expression Omnibus\n",
    "+ https://www.ncbi.nlm.nih.gov/geo/query/acc.cgi?acc=GSE123336\n",
    "+ How to get the metadata is covered in here: https://github.com/jpwhalley/2024_Biostatistics/tree/main/e2_Getting_Data\n",
    "\n",
    "#### Specifically from this paper\n",
    "1.\tLaRocca D, Barns S, Hicks SD, Brindle A et al. Comparison of serum and saliva miRNAs for identification and characterization of mTBI in adult mixed martial arts fighters. *PLoS One* 2019;14(1):e0207785.\n"
   ]
  },
  {
   "cell_type": "code",
   "execution_count": null,
   "metadata": {},
   "outputs": [],
   "source": [
    "# Import the packages we need\n",
    "import pandas as pd\n",
    "import numpy as np\n",
    "# from adjustText import adjust_text\n",
    "import matplotlib.pyplot as plt\n",
    "import seaborn as sns\n",
    "sns.set(style='whitegrid', context='poster')"
   ]
  },
  {
   "cell_type": "code",
   "execution_count": null,
   "metadata": {},
   "outputs": [],
   "source": [
    "# Get the data in\n",
    "human_expression = pd.read_csv('GSE123336_MMA_CountMatrix.csv.gz', index_col=0, compression='gzip')\n",
    "human_expression = human_expression.apply(pd.to_numeric, errors='coerce')\n",
    "human_expression"
   ]
  },
  {
   "cell_type": "code",
   "execution_count": null,
   "metadata": {},
   "outputs": [],
   "source": [
    "metadata = pd.read_csv('GSE123336_metadata.csv', index_col=0)\n",
    "metadata"
   ]
  },
  {
   "cell_type": "code",
   "execution_count": null,
   "metadata": {},
   "outputs": [],
   "source": [
    "# Can we see which miRNA are differentially expressed in Serum pre and post fight?\n",
    "# Filter for serum samples only\n",
    "serum_samples = metadata[(metadata['tissue'] == 'Serum') & \n",
    "                          (metadata['timepoint'].isin(['0d pre', '0d post']))]\n",
    "\n",
    "# Get the corresponding sample names\n",
    "serum_sample_names = serum_samples.index\n",
    "\n",
    "# Subset the expression data\n",
    "serum_expression = human_expression[serum_sample_names]\n",
    "serum_expression\n",
    "\n",
    "pre_fight_samples = serum_samples[serum_samples['timepoint'] == '0d pre'].index\n",
    "post_fight_samples = serum_samples[serum_samples['timepoint'] == '0d post'].index\n",
    "\n",
    "pre_fight_expression = serum_expression[pre_fight_samples]\n",
    "post_fight_expression = serum_expression[post_fight_samples]"
   ]
  },
  {
   "cell_type": "code",
   "execution_count": null,
   "metadata": {},
   "outputs": [],
   "source": [
    "from scipy.stats import mannwhitneyu\n",
    "\n",
    "# Initialize a list to store results\n",
    "diff_expression_results = []\n",
    "\n",
    "# Iterate through each miRNA\n",
    "for miRNA in serum_expression.index:\n",
    "    # Extract expression levels for this miRNA\n",
    "    pre_values = pre_fight_expression.loc[miRNA]\n",
    "    post_values = post_fight_expression.loc[miRNA]\n",
    "    \n",
    "    # Perform the Mann-Whitney U test\n",
    "    stat, p_value = mannwhitneyu(pre_values, post_values, alternative='two-sided')\n",
    "    \n",
    "    # Store the results\n",
    "    diff_expression_results.append({\n",
    "        'miRNA': miRNA,\n",
    "        'statistic': stat,\n",
    "        'p_value': p_value\n",
    "    })\n",
    "\n",
    "# Convert the results to a DataFrame\n",
    "diff_expression_df = pd.DataFrame(diff_expression_results)\n",
    "\n",
    "# Apply multiple testing correction (e.g., Benjamini-Hochberg)\n",
    "from statsmodels.stats.multitest import multipletests\n",
    "\n",
    "diff_expression_df['Significant'], diff_expression_df['adjusted_p_value'], _, _ = multipletests(diff_expression_df['p_value'], method='fdr_bh')\n",
    "\n",
    "# Sort the results by adjusted p-value\n",
    "diff_expression_df = diff_expression_df.sort_values('p_value')\n",
    "diff_expression_df"
   ]
  },
  {
   "cell_type": "code",
   "execution_count": null,
   "metadata": {},
   "outputs": [],
   "source": [
    "# Calculate log2 fold change (post/pre)\n",
    "log2_fold_change = (post_fight_expression.mean(axis=1) / pre_fight_expression.mean(axis=1)).apply(np.log2)\n",
    "\n",
    "# Add fold change to the differential expression results\n",
    "diff_expression_df.set_index('miRNA', inplace=True)\n",
    "diff_expression_df['log2FoldChange'] = log2_fold_change"
   ]
  },
  {
   "cell_type": "code",
   "execution_count": null,
   "metadata": {},
   "outputs": [],
   "source": [
    "# Define thresholds\n",
    "cutoff_padj = 0.05  # Adjust this value if necessary\n",
    "lfc_cut = 1  # Log2 fold change threshold\n",
    "\n",
    "# Create significance flags\n",
    "fdr = np.ones(len(diff_expression_df), dtype=int)\n",
    "fdr[diff_expression_df['adjusted_p_value'] < cutoff_padj] = 2\n",
    "fdr[(diff_expression_df['adjusted_p_value'] < cutoff_padj) & (abs(diff_expression_df['log2FoldChange']) >= lfc_cut)] = 3\n",
    "diff_expression_df['fdr'] = fdr\n",
    "\n",
    "# Plot the volcano plot\n",
    "fig = plt.figure(figsize=(18, 12))\n",
    "colours = ['gray', 'blue', 'red']\n",
    "\n",
    "for i in range(1, 4):\n",
    "    plt.scatter(diff_expression_df['log2FoldChange'][diff_expression_df['fdr'] == i],\n",
    "                -np.log10(diff_expression_df['adjusted_p_value'][diff_expression_df['fdr'] == i]),\n",
    "                s=8, c=colours[i-1])\n",
    "\n",
    "# Add cutoff lines for log2 fold change and adjusted p-value\n",
    "plt.axvline(-lfc_cut, color=\"k\", linestyle='--')\n",
    "plt.axvline(lfc_cut, color=\"k\", linestyle='--')\n",
    "plt.axhline(-np.log10(cutoff_padj), color=\"k\", linestyle='--')\n",
    "\n",
    "# Label the significant miRNAs\n",
    "significant_miRNAs = diff_expression_df[(diff_expression_df['fdr'] == 3)]\n",
    "texts = []\n",
    "for label in significant_miRNAs.index:\n",
    "    texts.append(plt.text(significant_miRNAs['log2FoldChange'].loc[label], \n",
    "             -np.log10(significant_miRNAs['adjusted_p_value'].loc[label]), \n",
    "             label, \n",
    "             color='black', \n",
    "             fontsize=20))\n",
    "# adjust_text(texts, arrowprops=dict(arrowstyle=\"-\", color='k', lw=0.5))\n",
    "\n",
    "# Add labels and title\n",
    "plt.title('Volcano Plot of miRNA Expression (Pre vs Post Fight)')\n",
    "plt.xlabel('log2(fold change)')\n",
    "plt.ylabel('-log10(adjusted p-value)')\n",
    "\n",
    "# Show the plot\n",
    "plt.tight_layout()\n",
    "plt.show()\n"
   ]
  },
  {
   "cell_type": "code",
   "execution_count": null,
   "metadata": {},
   "outputs": [],
   "source": []
  }
 ],
 "metadata": {
  "kernelspec": {
   "display_name": "Python 3 (ipykernel)",
   "language": "python",
   "name": "python3"
  },
  "language_info": {
   "codemirror_mode": {
    "name": "ipython",
    "version": 3
   },
   "file_extension": ".py",
   "mimetype": "text/x-python",
   "name": "python",
   "nbconvert_exporter": "python",
   "pygments_lexer": "ipython3",
   "version": "3.11.5"
  }
 },
 "nbformat": 4,
 "nbformat_minor": 4
}
