{
 "cells": [
  {
   "cell_type": "markdown",
   "metadata": {},
   "source": [
    "# SGPS Molecular Techniques\n",
    "## Exercise 2b: Normalizing raw expression data\n",
    "\n",
    "#### Gene Expression data from Gene Expression Omnibus\n",
    "+ https://www.ncbi.nlm.nih.gov/geo/query/acc.cgi?acc=GSE159011\n",
    "\n",
    "#### Specifically from this paper\n",
    "1.\tDas Gupta S, Ciszek R, Heiskanen M, Lapinlampi N et al. Plasma miR-9-3p and miR-136-3p as Potential Novel Diagnostic Biomarkers for Experimental and Human Mild Traumatic Brain Injury. *Int J Mol Sci* 2021 Feb 4;22(4).\n"
   ]
  },
  {
   "cell_type": "code",
   "execution_count": null,
   "metadata": {},
   "outputs": [],
   "source": [
    "# Import the packages we need\n",
    "import pandas as pd\n",
    "import numpy as np\n",
    "# from adjustText import adjust_text\n",
    "import matplotlib.pyplot as plt\n",
    "import seaborn as sns\n",
    "sns.set(style='whitegrid', context='poster')"
   ]
  },
  {
   "cell_type": "code",
   "execution_count": null,
   "metadata": {},
   "outputs": [],
   "source": [
    "# Get the data in\n",
    "rat_expression = pd.read_csv(\"GSE159011_Raw_counts_matrix.txt\", index_col=0, sep='\\t')\n",
    "rat_expression"
   ]
  },
  {
   "cell_type": "code",
   "execution_count": null,
   "metadata": {},
   "outputs": [],
   "source": [
    "rat_expression.sum()"
   ]
  },
  {
   "cell_type": "code",
   "execution_count": null,
   "metadata": {},
   "outputs": [],
   "source": [
    "# Normalization\n",
    "# Step 1: Calculate the sum of each column\n",
    "column_sums = rat_expression.sum()\n",
    "\n",
    "# Step 2: Determine the normalization factor to scale each column to sum to 1 million\n",
    "normalization_factor = 1_000_000 / column_sums\n",
    "\n",
    "# Step 3: Multiply each column by its respective normalization factor\n",
    "normalized_df = rat_expression.multiply(normalization_factor, axis=1)\n",
    "\n",
    "# Now each column in `normalized_df` should sum to 1 million\n",
    "normalized_df"
   ]
  },
  {
   "cell_type": "code",
   "execution_count": null,
   "metadata": {},
   "outputs": [],
   "source": [
    "# We also want to do put this on a log2 scale\n",
    "log2_df = np.log2(normalized_df + 1)\n",
    "log2_df"
   ]
  },
  {
   "cell_type": "code",
   "execution_count": null,
   "metadata": {},
   "outputs": [],
   "source": [
    "rat_metadata = pd.read_csv('GSE159011_metadata.csv', index_col=0)\n",
    "rat_metadata"
   ]
  },
  {
   "cell_type": "code",
   "execution_count": null,
   "metadata": {},
   "outputs": [],
   "source": [
    "# Can look to do differential analysis for the different groups for this dataset\n"
   ]
  },
  {
   "cell_type": "code",
   "execution_count": null,
   "metadata": {},
   "outputs": [],
   "source": []
  }
 ],
 "metadata": {
  "kernelspec": {
   "display_name": "Python 3 (ipykernel)",
   "language": "python",
   "name": "python3"
  },
  "language_info": {
   "codemirror_mode": {
    "name": "ipython",
    "version": 3
   },
   "file_extension": ".py",
   "mimetype": "text/x-python",
   "name": "python",
   "nbconvert_exporter": "python",
   "pygments_lexer": "ipython3",
   "version": "3.10.8"
  }
 },
 "nbformat": 4,
 "nbformat_minor": 4
}
